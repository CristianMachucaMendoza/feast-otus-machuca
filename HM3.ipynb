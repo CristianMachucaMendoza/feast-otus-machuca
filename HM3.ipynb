{
 "cells": [
  {
   "cell_type": "code",
   "execution_count": 23,
   "id": "f33c3f10-4827-471d-8203-56bf32746e54",
   "metadata": {},
   "outputs": [],
   "source": [
    "import os\n",
    "from datetime import datetime\n",
    "\n",
    "import pandas as pd\n",
    "from feast import FeatureStore\n",
    "from datetime import datetime, timedelta\n",
    "import numpy as np"
   ]
  },
  {
   "cell_type": "code",
   "execution_count": 24,
   "id": "a624fcb4-45c2-4a46-b4e6-d6ac877b1360",
   "metadata": {},
   "outputs": [],
   "source": [
    "raw_data_path = os.path.join(\"feature_store\", \"feature_repo\", \"data\", \"driver_stats.parquet\")\n",
    "feature_store_path = os.path.join(\"feature_store\", \"feature_repo\")"
   ]
  },
  {
   "cell_type": "markdown",
   "id": "0d2e9c5c-413a-4915-9d79-9d79e25a6e1e",
   "metadata": {},
   "source": [
    "### Check data"
   ]
  },
  {
   "cell_type": "code",
   "execution_count": 25,
   "id": "900c6e18-5539-4b6a-bc62-8d1dcee1ace3",
   "metadata": {},
   "outputs": [],
   "source": [
    "df = pd.read_parquet(raw_data_path)"
   ]
  },
  {
   "cell_type": "code",
   "execution_count": 26,
   "id": "8b0998f9-98ba-4f2f-a59c-e388af9572c9",
   "metadata": {},
   "outputs": [
    {
     "data": {
      "text/html": [
       "<div>\n",
       "<style scoped>\n",
       "    .dataframe tbody tr th:only-of-type {\n",
       "        vertical-align: middle;\n",
       "    }\n",
       "\n",
       "    .dataframe tbody tr th {\n",
       "        vertical-align: top;\n",
       "    }\n",
       "\n",
       "    .dataframe thead th {\n",
       "        text-align: right;\n",
       "    }\n",
       "</style>\n",
       "<table border=\"1\" class=\"dataframe\">\n",
       "  <thead>\n",
       "    <tr style=\"text-align: right;\">\n",
       "      <th></th>\n",
       "      <th>event_timestamp</th>\n",
       "      <th>driver_id</th>\n",
       "      <th>conv_rate</th>\n",
       "      <th>acc_rate</th>\n",
       "      <th>avg_daily_trips</th>\n",
       "      <th>created</th>\n",
       "    </tr>\n",
       "  </thead>\n",
       "  <tbody>\n",
       "    <tr>\n",
       "      <th>0</th>\n",
       "      <td>2024-10-17 12:07:08.228578+00:00</td>\n",
       "      <td>1001</td>\n",
       "      <td>1.000000</td>\n",
       "      <td>1.000000</td>\n",
       "      <td>1000</td>\n",
       "      <td>2024-10-17 12:07:08.228581</td>\n",
       "    </tr>\n",
       "    <tr>\n",
       "      <th>1</th>\n",
       "      <td>2024-10-02 11:00:00+00:00</td>\n",
       "      <td>1005</td>\n",
       "      <td>0.429879</td>\n",
       "      <td>0.194598</td>\n",
       "      <td>582</td>\n",
       "      <td>2024-10-17 11:30:07.072000</td>\n",
       "    </tr>\n",
       "    <tr>\n",
       "      <th>2</th>\n",
       "      <td>2024-10-02 12:00:00+00:00</td>\n",
       "      <td>1005</td>\n",
       "      <td>0.230119</td>\n",
       "      <td>0.642878</td>\n",
       "      <td>551</td>\n",
       "      <td>2024-10-17 11:30:07.072000</td>\n",
       "    </tr>\n",
       "    <tr>\n",
       "      <th>3</th>\n",
       "      <td>2024-10-02 13:00:00+00:00</td>\n",
       "      <td>1005</td>\n",
       "      <td>0.128600</td>\n",
       "      <td>0.674187</td>\n",
       "      <td>38</td>\n",
       "      <td>2024-10-17 11:30:07.072000</td>\n",
       "    </tr>\n",
       "    <tr>\n",
       "      <th>4</th>\n",
       "      <td>2024-10-02 14:00:00+00:00</td>\n",
       "      <td>1005</td>\n",
       "      <td>0.400603</td>\n",
       "      <td>0.473636</td>\n",
       "      <td>583</td>\n",
       "      <td>2024-10-17 11:30:07.072000</td>\n",
       "    </tr>\n",
       "  </tbody>\n",
       "</table>\n",
       "</div>"
      ],
      "text/plain": [
       "                   event_timestamp  driver_id  conv_rate  acc_rate  \\\n",
       "0 2024-10-17 12:07:08.228578+00:00       1001   1.000000  1.000000   \n",
       "1        2024-10-02 11:00:00+00:00       1005   0.429879  0.194598   \n",
       "2        2024-10-02 12:00:00+00:00       1005   0.230119  0.642878   \n",
       "3        2024-10-02 13:00:00+00:00       1005   0.128600  0.674187   \n",
       "4        2024-10-02 14:00:00+00:00       1005   0.400603  0.473636   \n",
       "\n",
       "   avg_daily_trips                    created  \n",
       "0             1000 2024-10-17 12:07:08.228581  \n",
       "1              582 2024-10-17 11:30:07.072000  \n",
       "2              551 2024-10-17 11:30:07.072000  \n",
       "3               38 2024-10-17 11:30:07.072000  \n",
       "4              583 2024-10-17 11:30:07.072000  "
      ]
     },
     "execution_count": 26,
     "metadata": {},
     "output_type": "execute_result"
    }
   ],
   "source": [
    "df.head(5)"
   ]
  },
  {
   "cell_type": "markdown",
   "id": "8765696b-10fb-40f2-ab9f-57f08f747a8d",
   "metadata": {},
   "source": [
    "### Features inference "
   ]
  },
  {
   "cell_type": "code",
   "execution_count": 27,
   "id": "902f97c8-ce54-4741-ba3d-51366453ca73",
   "metadata": {},
   "outputs": [],
   "source": [
    "entity_df = pd.DataFrame.from_dict(\n",
    "    {\n",
    "        # entity's join key -> entity values\n",
    "        \"driver_id\": [1001, 1002, 1003],\n",
    "        # \"event_timestamp\" (reserved key) -> timestamps\n",
    "        \"event_timestamp\": [\n",
    "            datetime(2021, 4, 12, 10, 59, 42),\n",
    "            datetime(2021, 4, 12, 8, 12, 10),\n",
    "            datetime(2021, 4, 12, 16, 40, 26),\n",
    "        ]\n",
    "    }\n",
    ")"
   ]
  },
  {
   "cell_type": "code",
   "execution_count": 28,
   "id": "9cd2cb33-2764-4467-847d-e55cc0f07084",
   "metadata": {},
   "outputs": [
    {
     "data": {
      "text/html": [
       "<div>\n",
       "<style scoped>\n",
       "    .dataframe tbody tr th:only-of-type {\n",
       "        vertical-align: middle;\n",
       "    }\n",
       "\n",
       "    .dataframe tbody tr th {\n",
       "        vertical-align: top;\n",
       "    }\n",
       "\n",
       "    .dataframe thead th {\n",
       "        text-align: right;\n",
       "    }\n",
       "</style>\n",
       "<table border=\"1\" class=\"dataframe\">\n",
       "  <thead>\n",
       "    <tr style=\"text-align: right;\">\n",
       "      <th></th>\n",
       "      <th>driver_id</th>\n",
       "      <th>event_timestamp</th>\n",
       "    </tr>\n",
       "  </thead>\n",
       "  <tbody>\n",
       "    <tr>\n",
       "      <th>0</th>\n",
       "      <td>1001</td>\n",
       "      <td>2021-04-12 10:59:42</td>\n",
       "    </tr>\n",
       "    <tr>\n",
       "      <th>1</th>\n",
       "      <td>1002</td>\n",
       "      <td>2021-04-12 08:12:10</td>\n",
       "    </tr>\n",
       "    <tr>\n",
       "      <th>2</th>\n",
       "      <td>1003</td>\n",
       "      <td>2021-04-12 16:40:26</td>\n",
       "    </tr>\n",
       "  </tbody>\n",
       "</table>\n",
       "</div>"
      ],
      "text/plain": [
       "   driver_id     event_timestamp\n",
       "0       1001 2021-04-12 10:59:42\n",
       "1       1002 2021-04-12 08:12:10\n",
       "2       1003 2021-04-12 16:40:26"
      ]
     },
     "execution_count": 28,
     "metadata": {},
     "output_type": "execute_result"
    }
   ],
   "source": [
    "entity_df"
   ]
  },
  {
   "cell_type": "code",
   "execution_count": 29,
   "id": "b24e1ed1-b6ac-43ec-b881-732671b57c69",
   "metadata": {},
   "outputs": [
    {
     "name": "stderr",
     "output_type": "stream",
     "text": [
      "/home/machuca/new_env/lib/python3.12/site-packages/feast/repo_config.py:268: DeprecationWarning: The serialization version below 3 are deprecated. Specifying `entity_key_serialization_version` to 3 is recommended.\n",
      "  warnings.warn(\n"
     ]
    }
   ],
   "source": [
    "store = FeatureStore(repo_path=feature_store_path)"
   ]
  },
  {
   "cell_type": "markdown",
   "id": "e99b4870",
   "metadata": {},
   "source": [
    "### Historical data for training"
   ]
  },
  {
   "cell_type": "code",
   "execution_count": 30,
   "id": "077dc5fb-26ac-4ab5-b1bc-e379ee2164cf",
   "metadata": {},
   "outputs": [],
   "source": [
    "training_df = store.get_historical_features(\n",
    "    entity_df=entity_df,\n",
    "    features=[\n",
    "        \"driver_quality_stats:conv_rate\",\n",
    "        \"driver_quality_stats:acc_rate\",\n",
    "        \"driver_activity_stats:avg_daily_trips\",\n",
    "    ],\n",
    ").to_df()\n",
    "\n"
   ]
  },
  {
   "cell_type": "code",
   "execution_count": 31,
   "id": "cfeee199-39e6-4d19-8656-f4a4401d8723",
   "metadata": {},
   "outputs": [
    {
     "data": {
      "text/html": [
       "<div>\n",
       "<style scoped>\n",
       "    .dataframe tbody tr th:only-of-type {\n",
       "        vertical-align: middle;\n",
       "    }\n",
       "\n",
       "    .dataframe tbody tr th {\n",
       "        vertical-align: top;\n",
       "    }\n",
       "\n",
       "    .dataframe thead th {\n",
       "        text-align: right;\n",
       "    }\n",
       "</style>\n",
       "<table border=\"1\" class=\"dataframe\">\n",
       "  <thead>\n",
       "    <tr style=\"text-align: right;\">\n",
       "      <th></th>\n",
       "      <th>driver_id</th>\n",
       "      <th>event_timestamp</th>\n",
       "      <th>conv_rate</th>\n",
       "      <th>acc_rate</th>\n",
       "      <th>avg_daily_trips</th>\n",
       "    </tr>\n",
       "  </thead>\n",
       "  <tbody>\n",
       "    <tr>\n",
       "      <th>0</th>\n",
       "      <td>1001</td>\n",
       "      <td>2021-04-12 10:59:42+00:00</td>\n",
       "      <td>0.709758</td>\n",
       "      <td>0.692957</td>\n",
       "      <td>402</td>\n",
       "    </tr>\n",
       "    <tr>\n",
       "      <th>1</th>\n",
       "      <td>1002</td>\n",
       "      <td>2021-04-12 08:12:10+00:00</td>\n",
       "      <td>0.718295</td>\n",
       "      <td>0.584081</td>\n",
       "      <td>370</td>\n",
       "    </tr>\n",
       "    <tr>\n",
       "      <th>2</th>\n",
       "      <td>1003</td>\n",
       "      <td>2021-04-12 16:40:26+00:00</td>\n",
       "      <td>0.697411</td>\n",
       "      <td>0.197680</td>\n",
       "      <td>25</td>\n",
       "    </tr>\n",
       "  </tbody>\n",
       "</table>\n",
       "</div>"
      ],
      "text/plain": [
       "   driver_id           event_timestamp  conv_rate  acc_rate  avg_daily_trips\n",
       "0       1001 2021-04-12 10:59:42+00:00   0.709758  0.692957              402\n",
       "1       1002 2021-04-12 08:12:10+00:00   0.718295  0.584081              370\n",
       "2       1003 2021-04-12 16:40:26+00:00   0.697411  0.197680               25"
      ]
     },
     "execution_count": 31,
     "metadata": {},
     "output_type": "execute_result"
    }
   ],
   "source": [
    "training_df.head()"
   ]
  },
  {
   "cell_type": "markdown",
   "id": "cfa4c00e",
   "metadata": {},
   "source": [
    "### Historical data for training + New features based on existing data (On demand)"
   ]
  },
  {
   "cell_type": "code",
   "execution_count": 47,
   "id": "5f88f25e",
   "metadata": {},
   "outputs": [],
   "source": [
    "training_df = store.get_historical_features(\n",
    "    entity_df=entity_df,\n",
    "    features=[\n",
    "        \"driver_quality_stats:conv_rate\",\n",
    "        \"driver_quality_stats:acc_rate\",\n",
    "        \"driver_activity_stats:avg_daily_trips\",\n",
    "        \"driver_efficiency_metrics:efficiency_index\",\n",
    "        \"driver_efficiency_metrics:risk_score\",\n",
    "    ],\n",
    ").to_df()\n",
    "\n"
   ]
  },
  {
   "cell_type": "code",
   "execution_count": 48,
   "id": "211760a3",
   "metadata": {},
   "outputs": [
    {
     "data": {
      "text/html": [
       "<div>\n",
       "<style scoped>\n",
       "    .dataframe tbody tr th:only-of-type {\n",
       "        vertical-align: middle;\n",
       "    }\n",
       "\n",
       "    .dataframe tbody tr th {\n",
       "        vertical-align: top;\n",
       "    }\n",
       "\n",
       "    .dataframe thead th {\n",
       "        text-align: right;\n",
       "    }\n",
       "</style>\n",
       "<table border=\"1\" class=\"dataframe\">\n",
       "  <thead>\n",
       "    <tr style=\"text-align: right;\">\n",
       "      <th></th>\n",
       "      <th>driver_id</th>\n",
       "      <th>event_timestamp</th>\n",
       "      <th>conv_rate</th>\n",
       "      <th>acc_rate</th>\n",
       "      <th>avg_daily_trips</th>\n",
       "      <th>efficiency_index</th>\n",
       "      <th>risk_score</th>\n",
       "    </tr>\n",
       "  </thead>\n",
       "  <tbody>\n",
       "    <tr>\n",
       "      <th>0</th>\n",
       "      <td>1001</td>\n",
       "      <td>2021-04-12 10:59:42+00:00</td>\n",
       "      <td>0.709758</td>\n",
       "      <td>0.692957</td>\n",
       "      <td>402</td>\n",
       "      <td>402.709758</td>\n",
       "      <td>-3.157007</td>\n",
       "    </tr>\n",
       "    <tr>\n",
       "      <th>1</th>\n",
       "      <td>1002</td>\n",
       "      <td>2021-04-12 08:12:10+00:00</td>\n",
       "      <td>0.718295</td>\n",
       "      <td>0.584081</td>\n",
       "      <td>370</td>\n",
       "      <td>370.718295</td>\n",
       "      <td>-2.455543</td>\n",
       "    </tr>\n",
       "    <tr>\n",
       "      <th>2</th>\n",
       "      <td>1003</td>\n",
       "      <td>2021-04-12 16:40:26+00:00</td>\n",
       "      <td>0.697411</td>\n",
       "      <td>0.197680</td>\n",
       "      <td>25</td>\n",
       "      <td>25.697411</td>\n",
       "      <td>0.355938</td>\n",
       "    </tr>\n",
       "  </tbody>\n",
       "</table>\n",
       "</div>"
      ],
      "text/plain": [
       "   driver_id           event_timestamp  conv_rate  acc_rate  avg_daily_trips  \\\n",
       "0       1001 2021-04-12 10:59:42+00:00   0.709758  0.692957              402   \n",
       "1       1002 2021-04-12 08:12:10+00:00   0.718295  0.584081              370   \n",
       "2       1003 2021-04-12 16:40:26+00:00   0.697411  0.197680               25   \n",
       "\n",
       "   efficiency_index  risk_score  \n",
       "0        402.709758   -3.157007  \n",
       "1        370.718295   -2.455543  \n",
       "2         25.697411    0.355938  "
      ]
     },
     "execution_count": 48,
     "metadata": {},
     "output_type": "execute_result"
    }
   ],
   "source": [
    "training_df.head()"
   ]
  },
  {
   "cell_type": "code",
   "execution_count": null,
   "id": "a807cc88",
   "metadata": {},
   "outputs": [],
   "source": [
    "# Online feature retrieval\n",
    "online_features = store.get_online_features(\n",
    "    features=[\n",
    "        \"driver_quality_stats:conv_rate\",\n",
    "        \"driver_quality_stats:acc_rate\",\n",
    "        \"driver_activity_stats:avg_daily_trips\",\n",
    "    ],\n",
    "    entity_rows=[{\"driver_id\": 1001}, {\"driver_id\": 1005}],\n",
    ").to_dict()\n",
    "\n",
    "print(\"Online features for drivers 1001, 1002:\")\n",
    "for key, value in online_features.items():\n",
    "    print(f\"{key}: {value}\")"
   ]
  },
  {
   "cell_type": "code",
   "execution_count": 50,
   "id": "800bbc4d",
   "metadata": {},
   "outputs": [
    {
     "name": "stdout",
     "output_type": "stream",
     "text": [
      "\n",
      "Features from driver_activity_v2 service:\n"
     ]
    },
    {
     "data": {
      "text/html": [
       "<div>\n",
       "<style scoped>\n",
       "    .dataframe tbody tr th:only-of-type {\n",
       "        vertical-align: middle;\n",
       "    }\n",
       "\n",
       "    .dataframe tbody tr th {\n",
       "        vertical-align: top;\n",
       "    }\n",
       "\n",
       "    .dataframe thead th {\n",
       "        text-align: right;\n",
       "    }\n",
       "</style>\n",
       "<table border=\"1\" class=\"dataframe\">\n",
       "  <thead>\n",
       "    <tr style=\"text-align: right;\">\n",
       "      <th></th>\n",
       "      <th>driver_id</th>\n",
       "      <th>event_timestamp</th>\n",
       "      <th>conv_rate</th>\n",
       "      <th>acc_rate</th>\n",
       "      <th>avg_daily_trips</th>\n",
       "      <th>efficiency_index</th>\n",
       "      <th>risk_score</th>\n",
       "    </tr>\n",
       "  </thead>\n",
       "  <tbody>\n",
       "    <tr>\n",
       "      <th>0</th>\n",
       "      <td>1001</td>\n",
       "      <td>2021-04-12 10:59:42+00:00</td>\n",
       "      <td>0.709758</td>\n",
       "      <td>0.692957</td>\n",
       "      <td>402</td>\n",
       "      <td>402.709758</td>\n",
       "      <td>-3.157007</td>\n",
       "    </tr>\n",
       "    <tr>\n",
       "      <th>1</th>\n",
       "      <td>1002</td>\n",
       "      <td>2021-04-12 08:12:10+00:00</td>\n",
       "      <td>0.718295</td>\n",
       "      <td>0.584081</td>\n",
       "      <td>370</td>\n",
       "      <td>370.718295</td>\n",
       "      <td>-2.455543</td>\n",
       "    </tr>\n",
       "    <tr>\n",
       "      <th>2</th>\n",
       "      <td>1003</td>\n",
       "      <td>2021-04-12 16:40:26+00:00</td>\n",
       "      <td>0.697411</td>\n",
       "      <td>0.197680</td>\n",
       "      <td>25</td>\n",
       "      <td>25.697411</td>\n",
       "      <td>0.355938</td>\n",
       "    </tr>\n",
       "  </tbody>\n",
       "</table>\n",
       "</div>"
      ],
      "text/plain": [
       "   driver_id           event_timestamp  conv_rate  acc_rate  avg_daily_trips  \\\n",
       "0       1001 2021-04-12 10:59:42+00:00   0.709758  0.692957              402   \n",
       "1       1002 2021-04-12 08:12:10+00:00   0.718295  0.584081              370   \n",
       "2       1003 2021-04-12 16:40:26+00:00   0.697411  0.197680               25   \n",
       "\n",
       "   efficiency_index  risk_score  \n",
       "0        402.709758   -3.157007  \n",
       "1        370.718295   -2.455543  \n",
       "2         25.697411    0.355938  "
      ]
     },
     "execution_count": 50,
     "metadata": {},
     "output_type": "execute_result"
    }
   ],
   "source": [
    "# Using Feature Service for consistent feature sets\n",
    "training_df_v1 = store.get_historical_features(\n",
    "    entity_df=entity_df,\n",
    "    features=store.get_feature_service(\"driver_activity_v2\")\n",
    ").to_df()\n",
    "\n",
    "print(\"\\nFeatures from driver_activity_v2 service:\")\n",
    "training_df_v1.head()"
   ]
  },
  {
   "cell_type": "markdown",
   "id": "2492c3e5",
   "metadata": {},
   "source": [
    "### Feature view 1 metada"
   ]
  },
  {
   "cell_type": "code",
   "execution_count": 40,
   "id": "09e156f1",
   "metadata": {},
   "outputs": [
    {
     "name": "stdout",
     "output_type": "stream",
     "text": [
      "\n",
      "Feature view metadata:\n",
      "Name: driver_quality_stats\n",
      "Entities: ['driver']\n",
      "TTL: 1 day, 0:00:00\n",
      "Online: True\n",
      "Features: ['conv_rate', 'acc_rate']\n"
     ]
    }
   ],
   "source": [
    "# Get feature view metadata\n",
    "feature_view = store.get_feature_view(\"driver_quality_stats\")\n",
    "print(\"\\nFeature view metadata:\")\n",
    "print(f\"Name: {feature_view.name}\")\n",
    "print(f\"Entities: {feature_view.entities}\")\n",
    "print(f\"TTL: {feature_view.ttl}\")\n",
    "print(f\"Online: {feature_view.online}\")\n",
    "print(f\"Features: {[f.name for f in feature_view.features]}\")"
   ]
  },
  {
   "cell_type": "markdown",
   "id": "8c6b15b7",
   "metadata": {},
   "source": [
    "### Feature view 2 Metada"
   ]
  },
  {
   "cell_type": "code",
   "execution_count": 41,
   "id": "708d3626",
   "metadata": {},
   "outputs": [
    {
     "name": "stdout",
     "output_type": "stream",
     "text": [
      "\n",
      "Feature view metadata:\n",
      "Name: driver_activity_stats\n",
      "Entities: ['driver']\n",
      "TTL: 1 day, 0:00:00\n",
      "Online: True\n",
      "Features: ['avg_daily_trips']\n"
     ]
    }
   ],
   "source": [
    "# Get feature view metadata\n",
    "feature_view = store.get_feature_view(\"driver_activity_stats\")\n",
    "print(\"\\nFeature view metadata:\")\n",
    "print(f\"Name: {feature_view.name}\")\n",
    "print(f\"Entities: {feature_view.entities}\")\n",
    "print(f\"TTL: {feature_view.ttl}\")\n",
    "print(f\"Online: {feature_view.online}\")\n",
    "print(f\"Features: {[f.name for f in feature_view.features]}\")"
   ]
  },
  {
   "cell_type": "markdown",
   "id": "e2eb33d4",
   "metadata": {},
   "source": [
    "### Online Data"
   ]
  },
  {
   "cell_type": "code",
   "execution_count": 51,
   "id": "25f384d6",
   "metadata": {},
   "outputs": [
    {
     "name": "stdout",
     "output_type": "stream",
     "text": [
      "\n",
      "Features from driver_activity_v4 service:\n"
     ]
    },
    {
     "data": {
      "text/html": [
       "<div>\n",
       "<style scoped>\n",
       "    .dataframe tbody tr th:only-of-type {\n",
       "        vertical-align: middle;\n",
       "    }\n",
       "\n",
       "    .dataframe tbody tr th {\n",
       "        vertical-align: top;\n",
       "    }\n",
       "\n",
       "    .dataframe thead th {\n",
       "        text-align: right;\n",
       "    }\n",
       "</style>\n",
       "<table border=\"1\" class=\"dataframe\">\n",
       "  <thead>\n",
       "    <tr style=\"text-align: right;\">\n",
       "      <th></th>\n",
       "      <th>driver_id</th>\n",
       "      <th>event_timestamp</th>\n",
       "      <th>conv_rate</th>\n",
       "      <th>acc_rate</th>\n",
       "      <th>avg_daily_trips</th>\n",
       "      <th>efficiency_index</th>\n",
       "      <th>risk_score</th>\n",
       "    </tr>\n",
       "  </thead>\n",
       "  <tbody>\n",
       "    <tr>\n",
       "      <th>0</th>\n",
       "      <td>1001</td>\n",
       "      <td>2021-04-12 10:59:42+00:00</td>\n",
       "      <td>0.709758</td>\n",
       "      <td>0.692957</td>\n",
       "      <td>402</td>\n",
       "      <td>402.709758</td>\n",
       "      <td>-3.157007</td>\n",
       "    </tr>\n",
       "    <tr>\n",
       "      <th>1</th>\n",
       "      <td>1002</td>\n",
       "      <td>2021-04-12 08:12:10+00:00</td>\n",
       "      <td>0.718295</td>\n",
       "      <td>0.584081</td>\n",
       "      <td>370</td>\n",
       "      <td>370.718295</td>\n",
       "      <td>-2.455543</td>\n",
       "    </tr>\n",
       "    <tr>\n",
       "      <th>2</th>\n",
       "      <td>1003</td>\n",
       "      <td>2021-04-12 16:40:26+00:00</td>\n",
       "      <td>0.697411</td>\n",
       "      <td>0.197680</td>\n",
       "      <td>25</td>\n",
       "      <td>25.697411</td>\n",
       "      <td>0.355938</td>\n",
       "    </tr>\n",
       "  </tbody>\n",
       "</table>\n",
       "</div>"
      ],
      "text/plain": [
       "   driver_id           event_timestamp  conv_rate  acc_rate  avg_daily_trips  \\\n",
       "0       1001 2021-04-12 10:59:42+00:00   0.709758  0.692957              402   \n",
       "1       1002 2021-04-12 08:12:10+00:00   0.718295  0.584081              370   \n",
       "2       1003 2021-04-12 16:40:26+00:00   0.697411  0.197680               25   \n",
       "\n",
       "   efficiency_index  risk_score  \n",
       "0        402.709758   -3.157007  \n",
       "1        370.718295   -2.455543  \n",
       "2         25.697411    0.355938  "
      ]
     },
     "execution_count": 51,
     "metadata": {},
     "output_type": "execute_result"
    }
   ],
   "source": [
    "# Using Feature Service for consistent feature sets\n",
    "training_df_v3 = store.get_historical_features(\n",
    "    entity_df=entity_df,\n",
    "    features=store.get_feature_service(\"driver_activity_v3\")\n",
    ").to_df()\n",
    "\n",
    "print(\"\\nFeatures from driver_activity_v4 service:\")\n",
    "training_df_v3.head()"
   ]
  },
  {
   "cell_type": "code",
   "execution_count": null,
   "id": "0957515c",
   "metadata": {},
   "outputs": [],
   "source": []
  }
 ],
 "metadata": {
  "kernelspec": {
   "display_name": "new_env",
   "language": "python",
   "name": "python3"
  },
  "language_info": {
   "codemirror_mode": {
    "name": "ipython",
    "version": 3
   },
   "file_extension": ".py",
   "mimetype": "text/x-python",
   "name": "python",
   "nbconvert_exporter": "python",
   "pygments_lexer": "ipython3",
   "version": "3.12.3"
  }
 },
 "nbformat": 4,
 "nbformat_minor": 5
}
