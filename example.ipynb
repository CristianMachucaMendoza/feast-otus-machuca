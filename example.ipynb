{
 "cells": [
  {
   "cell_type": "code",
   "execution_count": 1,
   "id": "f33c3f10-4827-471d-8203-56bf32746e54",
   "metadata": {},
   "outputs": [],
   "source": [
    "import os\n",
    "from datetime import datetime\n",
    "\n",
    "import pandas as pd\n",
    "from feast import FeatureStore"
   ]
  },
  {
   "cell_type": "code",
   "execution_count": 2,
   "id": "a624fcb4-45c2-4a46-b4e6-d6ac877b1360",
   "metadata": {},
   "outputs": [],
   "source": [
    "raw_data_path = os.path.join(\"feature_store\", \"feature_repo\", \"data\", \"driver_stats.parquet\")\n",
    "feature_store_path = os.path.join(\"feature_store\", \"feature_repo\")"
   ]
  },
  {
   "cell_type": "markdown",
   "id": "0d2e9c5c-413a-4915-9d79-9d79e25a6e1e",
   "metadata": {},
   "source": [
    "### Check data"
   ]
  },
  {
   "cell_type": "code",
   "execution_count": 3,
   "id": "900c6e18-5539-4b6a-bc62-8d1dcee1ace3",
   "metadata": {},
   "outputs": [],
   "source": [
    "df = pd.read_parquet(raw_data_path)"
   ]
  },
  {
   "cell_type": "code",
   "execution_count": 4,
   "id": "8b0998f9-98ba-4f2f-a59c-e388af9572c9",
   "metadata": {},
   "outputs": [
    {
     "data": {
      "text/html": [
       "<div>\n",
       "<style scoped>\n",
       "    .dataframe tbody tr th:only-of-type {\n",
       "        vertical-align: middle;\n",
       "    }\n",
       "\n",
       "    .dataframe tbody tr th {\n",
       "        vertical-align: top;\n",
       "    }\n",
       "\n",
       "    .dataframe thead th {\n",
       "        text-align: right;\n",
       "    }\n",
       "</style>\n",
       "<table border=\"1\" class=\"dataframe\">\n",
       "  <thead>\n",
       "    <tr style=\"text-align: right;\">\n",
       "      <th></th>\n",
       "      <th>event_timestamp</th>\n",
       "      <th>driver_id</th>\n",
       "      <th>conv_rate</th>\n",
       "      <th>acc_rate</th>\n",
       "      <th>avg_daily_trips</th>\n",
       "      <th>created</th>\n",
       "    </tr>\n",
       "  </thead>\n",
       "  <tbody>\n",
       "    <tr>\n",
       "      <th>0</th>\n",
       "      <td>2024-10-17 12:07:08.228578+00:00</td>\n",
       "      <td>1001</td>\n",
       "      <td>1.000000</td>\n",
       "      <td>1.000000</td>\n",
       "      <td>1000</td>\n",
       "      <td>2024-10-17 12:07:08.228581</td>\n",
       "    </tr>\n",
       "    <tr>\n",
       "      <th>1</th>\n",
       "      <td>2024-10-02 11:00:00+00:00</td>\n",
       "      <td>1005</td>\n",
       "      <td>0.429879</td>\n",
       "      <td>0.194598</td>\n",
       "      <td>582</td>\n",
       "      <td>2024-10-17 11:30:07.072000</td>\n",
       "    </tr>\n",
       "    <tr>\n",
       "      <th>2</th>\n",
       "      <td>2024-10-02 12:00:00+00:00</td>\n",
       "      <td>1005</td>\n",
       "      <td>0.230119</td>\n",
       "      <td>0.642878</td>\n",
       "      <td>551</td>\n",
       "      <td>2024-10-17 11:30:07.072000</td>\n",
       "    </tr>\n",
       "    <tr>\n",
       "      <th>3</th>\n",
       "      <td>2024-10-02 13:00:00+00:00</td>\n",
       "      <td>1005</td>\n",
       "      <td>0.128600</td>\n",
       "      <td>0.674187</td>\n",
       "      <td>38</td>\n",
       "      <td>2024-10-17 11:30:07.072000</td>\n",
       "    </tr>\n",
       "    <tr>\n",
       "      <th>4</th>\n",
       "      <td>2024-10-02 14:00:00+00:00</td>\n",
       "      <td>1005</td>\n",
       "      <td>0.400603</td>\n",
       "      <td>0.473636</td>\n",
       "      <td>583</td>\n",
       "      <td>2024-10-17 11:30:07.072000</td>\n",
       "    </tr>\n",
       "  </tbody>\n",
       "</table>\n",
       "</div>"
      ],
      "text/plain": [
       "                   event_timestamp  driver_id  conv_rate  acc_rate  \\\n",
       "0 2024-10-17 12:07:08.228578+00:00       1001   1.000000  1.000000   \n",
       "1        2024-10-02 11:00:00+00:00       1005   0.429879  0.194598   \n",
       "2        2024-10-02 12:00:00+00:00       1005   0.230119  0.642878   \n",
       "3        2024-10-02 13:00:00+00:00       1005   0.128600  0.674187   \n",
       "4        2024-10-02 14:00:00+00:00       1005   0.400603  0.473636   \n",
       "\n",
       "   avg_daily_trips                    created  \n",
       "0             1000 2024-10-17 12:07:08.228581  \n",
       "1              582 2024-10-17 11:30:07.072000  \n",
       "2              551 2024-10-17 11:30:07.072000  \n",
       "3               38 2024-10-17 11:30:07.072000  \n",
       "4              583 2024-10-17 11:30:07.072000  "
      ]
     },
     "execution_count": 4,
     "metadata": {},
     "output_type": "execute_result"
    }
   ],
   "source": [
    "df.head(5)"
   ]
  },
  {
   "cell_type": "markdown",
   "id": "8765696b-10fb-40f2-ab9f-57f08f747a8d",
   "metadata": {},
   "source": [
    "### Features inference"
   ]
  },
  {
   "cell_type": "code",
   "execution_count": 5,
   "id": "902f97c8-ce54-4741-ba3d-51366453ca73",
   "metadata": {},
   "outputs": [],
   "source": [
    "entity_df = pd.DataFrame.from_dict(\n",
    "    {\n",
    "        # entity's join key -> entity values\n",
    "        \"driver_id\": [1001, 1002, 1003],\n",
    "        # \"event_timestamp\" (reserved key) -> timestamps\n",
    "        \"event_timestamp\": [\n",
    "            datetime(2021, 4, 12, 10, 59, 42),\n",
    "            datetime(2021, 4, 12, 8, 12, 10),\n",
    "            datetime(2021, 4, 12, 16, 40, 26),\n",
    "        ],\n",
    "        # (optional) label name -> label values. Feast does not process these\n",
    "        \"label_driver_reported_satisfaction\": [1, 5, 3],\n",
    "    }\n",
    ")"
   ]
  },
  {
   "cell_type": "code",
   "execution_count": 6,
   "id": "9cd2cb33-2764-4467-847d-e55cc0f07084",
   "metadata": {},
   "outputs": [
    {
     "data": {
      "text/html": [
       "<div>\n",
       "<style scoped>\n",
       "    .dataframe tbody tr th:only-of-type {\n",
       "        vertical-align: middle;\n",
       "    }\n",
       "\n",
       "    .dataframe tbody tr th {\n",
       "        vertical-align: top;\n",
       "    }\n",
       "\n",
       "    .dataframe thead th {\n",
       "        text-align: right;\n",
       "    }\n",
       "</style>\n",
       "<table border=\"1\" class=\"dataframe\">\n",
       "  <thead>\n",
       "    <tr style=\"text-align: right;\">\n",
       "      <th></th>\n",
       "      <th>driver_id</th>\n",
       "      <th>event_timestamp</th>\n",
       "      <th>label_driver_reported_satisfaction</th>\n",
       "    </tr>\n",
       "  </thead>\n",
       "  <tbody>\n",
       "    <tr>\n",
       "      <th>0</th>\n",
       "      <td>1001</td>\n",
       "      <td>2021-04-12 10:59:42</td>\n",
       "      <td>1</td>\n",
       "    </tr>\n",
       "    <tr>\n",
       "      <th>1</th>\n",
       "      <td>1002</td>\n",
       "      <td>2021-04-12 08:12:10</td>\n",
       "      <td>5</td>\n",
       "    </tr>\n",
       "    <tr>\n",
       "      <th>2</th>\n",
       "      <td>1003</td>\n",
       "      <td>2021-04-12 16:40:26</td>\n",
       "      <td>3</td>\n",
       "    </tr>\n",
       "  </tbody>\n",
       "</table>\n",
       "</div>"
      ],
      "text/plain": [
       "   driver_id     event_timestamp  label_driver_reported_satisfaction\n",
       "0       1001 2021-04-12 10:59:42                                   1\n",
       "1       1002 2021-04-12 08:12:10                                   5\n",
       "2       1003 2021-04-12 16:40:26                                   3"
      ]
     },
     "execution_count": 6,
     "metadata": {},
     "output_type": "execute_result"
    }
   ],
   "source": [
    "entity_df"
   ]
  },
  {
   "cell_type": "code",
   "execution_count": 7,
   "id": "b24e1ed1-b6ac-43ec-b881-732671b57c69",
   "metadata": {},
   "outputs": [],
   "source": [
    "store = FeatureStore(repo_path=feature_store_path)"
   ]
  },
  {
   "cell_type": "code",
   "execution_count": null,
   "id": "077dc5fb-26ac-4ab5-b1bc-e379ee2164cf",
   "metadata": {},
   "outputs": [],
   "source": [
    "training_df = store.get_historical_features(\n",
    "    entity_df=entity_df,\n",
    "    features=[\n",
    "        \"driver_hourly_stats:conv_rate\",\n",
    "        \"driver_hourly_stats:acc_rate\",\n",
    "        \"driver_hourly_stats:avg_daily_trips\",\n",
    "    ],\n",
    ").to_df()\n",
    "\n",
    "print(\"----- Feature schema -----\\n\")\n",
    "print(training_df.info())"
   ]
  },
  {
   "cell_type": "code",
   "execution_count": null,
   "id": "cfeee199-39e6-4d19-8656-f4a4401d8723",
   "metadata": {},
   "outputs": [],
   "source": [
    "training_df.head()"
   ]
  },
  {
   "cell_type": "markdown",
   "id": "ca95b6a0-57d1-4fb0-8190-c93cd82e1f36",
   "metadata": {},
   "source": [
    "### Features View - on demand"
   ]
  },
  {
   "cell_type": "code",
   "execution_count": null,
   "id": "8682dd22-31be-4e71-a672-d558be69078e",
   "metadata": {},
   "outputs": [],
   "source": [
    "entity_df = pd.DataFrame.from_dict(\n",
    "    {\n",
    "        # entity's join key -> entity values\n",
    "        \"driver_id\": [1001, 1002, 1003],\n",
    "        # \"event_timestamp\" (reserved key) -> timestamps\n",
    "        \"event_timestamp\": [\n",
    "            datetime(2021, 4, 12, 10, 59, 42),\n",
    "            datetime(2021, 4, 12, 8, 12, 10),\n",
    "            datetime(2021, 4, 12, 16, 40, 26),\n",
    "        ],\n",
    "        # (optional) label name -> label values. Feast does not process these\n",
    "        \"label_driver_reported_satisfaction\": [1, 5, 3],\n",
    "        # values we're using for an on-demand transformation\n",
    "        \"val_to_add\": [1, 2, 3],\n",
    "        \"val_to_add_2\": [10, 20, 30],\n",
    "    }\n",
    ")"
   ]
  },
  {
   "cell_type": "code",
   "execution_count": null,
   "id": "5361584f",
   "metadata": {},
   "outputs": [],
   "source": [
    "entity_df.head(5)"
   ]
  },
  {
   "cell_type": "code",
   "execution_count": null,
   "id": "b0883583-6c34-4aeb-af77-b47867d689aa",
   "metadata": {},
   "outputs": [],
   "source": [
    "training_df = store.get_historical_features(\n",
    "    entity_df=entity_df,\n",
    "    features=[\n",
    "        \"driver_hourly_stats:conv_rate\",\n",
    "        \"driver_hourly_stats:acc_rate\",\n",
    "        \"driver_hourly_stats:avg_daily_trips\",\n",
    "        \"transformed_conv_rate:conv_rate_plus_val1\",\n",
    "        \"transformed_conv_rate:conv_rate_plus_val2\",\n",
    "    ],\n",
    ").to_df()"
   ]
  },
  {
   "cell_type": "code",
   "execution_count": null,
   "id": "25b2f0f1-fcd6-4bcc-84c2-9daf381230fc",
   "metadata": {},
   "outputs": [],
   "source": [
    "training_df"
   ]
  },
  {
   "cell_type": "code",
   "execution_count": null,
   "id": "a807cc88",
   "metadata": {},
   "outputs": [],
   "source": [
    "# Online feature retrieval\n",
    "online_features = store.get_online_features(\n",
    "    features=[\n",
    "        \"driver_hourly_stats:conv_rate\",\n",
    "        \"driver_hourly_stats:acc_rate\",\n",
    "        \"driver_hourly_stats:avg_daily_trips\",\n",
    "    ],\n",
    "    entity_rows=[{\"driver_id\": 1001}, {\"driver_id\": 1002}],\n",
    ").to_dict()\n",
    "\n",
    "print(\"Online features for drivers 1001, 1002:\")\n",
    "for key, value in online_features.items():\n",
    "    print(f\"{key}: {value}\")"
   ]
  },
  {
   "cell_type": "code",
   "execution_count": null,
   "id": "800bbc4d",
   "metadata": {},
   "outputs": [],
   "source": [
    "# Using Feature Service for consistent feature sets\n",
    "training_df_v1 = store.get_historical_features(\n",
    "    entity_df=entity_df,\n",
    "    features=store.get_feature_service(\"driver_activity_v1\")\n",
    ").to_df()\n",
    "\n",
    "print(\"\\nFeatures from driver_activity_v1 service:\")\n",
    "training_df_v1.head()"
   ]
  },
  {
   "cell_type": "code",
   "execution_count": null,
   "id": "09e156f1",
   "metadata": {},
   "outputs": [],
   "source": [
    "# Get feature view metadata\n",
    "feature_view = store.get_feature_view(\"driver_hourly_stats\")\n",
    "print(\"\\nFeature view metadata:\")\n",
    "print(f\"Name: {feature_view.name}\")\n",
    "print(f\"Entities: {feature_view.entities}\")\n",
    "print(f\"TTL: {feature_view.ttl}\")\n",
    "print(f\"Online: {feature_view.online}\")\n",
    "print(f\"Features: {[f.name for f in feature_view.features]}\")"
   ]
  },
  {
   "cell_type": "code",
   "execution_count": 11,
   "id": "25f384d6",
   "metadata": {},
   "outputs": [
    {
     "name": "stderr",
     "output_type": "stream",
     "text": [
      "WARNING:root:_list_feature_views will make breaking changes. Please use _list_batch_feature_views instead. _list_feature_views will behave like _list_all_feature_views in the future.\n"
     ]
    },
    {
     "name": "stdout",
     "output_type": "stream",
     "text": [
      "\n",
      "Features from driver_activity_v4 service:\n"
     ]
    },
    {
     "data": {
      "text/html": [
       "<div>\n",
       "<style scoped>\n",
       "    .dataframe tbody tr th:only-of-type {\n",
       "        vertical-align: middle;\n",
       "    }\n",
       "\n",
       "    .dataframe tbody tr th {\n",
       "        vertical-align: top;\n",
       "    }\n",
       "\n",
       "    .dataframe thead th {\n",
       "        text-align: right;\n",
       "    }\n",
       "</style>\n",
       "<table border=\"1\" class=\"dataframe\">\n",
       "  <thead>\n",
       "    <tr style=\"text-align: right;\">\n",
       "      <th></th>\n",
       "      <th>driver_id</th>\n",
       "      <th>event_timestamp</th>\n",
       "      <th>label_driver_reported_satisfaction</th>\n",
       "      <th>conv_rate</th>\n",
       "      <th>acc_rate</th>\n",
       "      <th>avg_daily_trips</th>\n",
       "      <th>combined_rating</th>\n",
       "      <th>performance_score</th>\n",
       "    </tr>\n",
       "  </thead>\n",
       "  <tbody>\n",
       "    <tr>\n",
       "      <th>0</th>\n",
       "      <td>1001</td>\n",
       "      <td>2021-04-12 10:59:42+00:00</td>\n",
       "      <td>1</td>\n",
       "      <td>0.709758</td>\n",
       "      <td>0.692957</td>\n",
       "      <td>402</td>\n",
       "      <td>0.703038</td>\n",
       "      <td>4.217479</td>\n",
       "    </tr>\n",
       "    <tr>\n",
       "      <th>1</th>\n",
       "      <td>1002</td>\n",
       "      <td>2021-04-12 08:12:10+00:00</td>\n",
       "      <td>5</td>\n",
       "      <td>0.718295</td>\n",
       "      <td>0.584081</td>\n",
       "      <td>370</td>\n",
       "      <td>0.664610</td>\n",
       "      <td>3.931966</td>\n",
       "    </tr>\n",
       "    <tr>\n",
       "      <th>2</th>\n",
       "      <td>1003</td>\n",
       "      <td>2021-04-12 16:40:26+00:00</td>\n",
       "      <td>3</td>\n",
       "      <td>0.697411</td>\n",
       "      <td>0.197680</td>\n",
       "      <td>25</td>\n",
       "      <td>0.497519</td>\n",
       "      <td>1.620965</td>\n",
       "    </tr>\n",
       "  </tbody>\n",
       "</table>\n",
       "</div>"
      ],
      "text/plain": [
       "   driver_id           event_timestamp  label_driver_reported_satisfaction  \\\n",
       "0       1001 2021-04-12 10:59:42+00:00                                   1   \n",
       "1       1002 2021-04-12 08:12:10+00:00                                   5   \n",
       "2       1003 2021-04-12 16:40:26+00:00                                   3   \n",
       "\n",
       "   conv_rate  acc_rate  avg_daily_trips  combined_rating  performance_score  \n",
       "0   0.709758  0.692957              402         0.703038           4.217479  \n",
       "1   0.718295  0.584081              370         0.664610           3.931966  \n",
       "2   0.697411  0.197680               25         0.497519           1.620965  "
      ]
     },
     "execution_count": 11,
     "metadata": {},
     "output_type": "execute_result"
    }
   ],
   "source": [
    "# Using Feature Service for consistent feature sets\n",
    "training_df_v4 = store.get_historical_features(\n",
    "    entity_df=entity_df,\n",
    "    features=store.get_feature_service(\"driver_activity_v4\")\n",
    ").to_df()\n",
    "\n",
    "print(\"\\nFeatures from driver_activity_v4 service:\")\n",
    "training_df_v4.head()"
   ]
  },
  {
   "cell_type": "code",
   "execution_count": null,
   "id": "eda9cfc1",
   "metadata": {},
   "outputs": [],
   "source": []
  }
 ],
 "metadata": {
  "kernelspec": {
   "display_name": ".venv (3.11.11)",
   "language": "python",
   "name": "python3"
  },
  "language_info": {
   "codemirror_mode": {
    "name": "ipython",
    "version": 3
   },
   "file_extension": ".py",
   "mimetype": "text/x-python",
   "name": "python",
   "nbconvert_exporter": "python",
   "pygments_lexer": "ipython3",
   "version": "3.11.11"
  }
 },
 "nbformat": 4,
 "nbformat_minor": 5
}
